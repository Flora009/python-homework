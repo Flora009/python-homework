{
 "cells": [
  {
   "cell_type": "code",
   "execution_count": 2,
   "id": "1682dff8-3338-46dd-88ad-a5630474d59d",
   "metadata": {},
   "outputs": [
    {
     "name": "stdout",
     "output_type": "stream",
     "text": [
      "Financial Analysis\n",
      "---\n",
      "Total Months: 86\n",
      "Total: $38382578\n",
      "Average Change: $-2315.12\n",
      "Greatest Increase in Profits:Feb-2012 ($1926159)\n",
      "Greatest Decrease in Profits:Sep-2013 ($-2196167)\n"
     ]
    }
   ],
   "source": [
    "from pathlib import Path\n",
    "import csv\n",
    "\n",
    "# Initialize variables\n",
    "month_count = 0\n",
    "net_pnl = 0\n",
    "ave_pnl = 0\n",
    "max_increase_profit = 0\n",
    "min_decrease_loss = 0\n",
    "\n",
    "budget_data_list = []\n",
    "ave_change_list = []\n",
    "\n",
    "# Set path and read the file\n",
    "file_path = Path('./Resources/budget_data.csv')\n",
    "\n",
    "\n",
    "with open(file_path,'r') as csvfile:\n",
    "    csvreader= csv.reader(csvfile, delimiter=',')   \n",
    "    header = next(csvreader)\n",
    "    \n",
    "    for row in csvreader:\n",
    "        key = row[0]\n",
    "        value = int(row[1])\n",
    "        \n",
    "        month_count += 1\n",
    "        net_pnl += int(row[1])\n",
    "        \n",
    "        # Store [key, value] pairs to budget_data_list which is a list of lists\n",
    "        budget_data_list.append([key,value])\n",
    "        \n",
    "    index = 0\n",
    "    index_next = index + 1\n",
    "\n",
    "    # Calculte the changes and get the max increase and min decrease           \n",
    "    while index_next <= (len(budget_data_list)-1):\n",
    "        change = budget_data_list [index_next][1] -  budget_data_list[index][1]\n",
    "        if change > 0:\n",
    "            if max_increase_profit == 0:\n",
    "                max_increase_profit = change\n",
    "                max_date = budget_data_list [index_next][0]\n",
    "            elif change > max_increase_profit:\n",
    "                max_increase_profit = change\n",
    "                max_date = budget_data_list [index_next][0]\n",
    "        elif change < 0:\n",
    "            if min_decrease_loss == 0:\n",
    "                min_decrease_loss = change\n",
    "                min_date = budget_data_list [index_next][0]\n",
    "            elif change < min_decrease_loss:\n",
    "                min_decrease_loss = change\n",
    "                min_date = budget_data_list [index_next][0]\n",
    "\n",
    "        ave_change_list.append(change)\n",
    "        index += 1\n",
    "        index_next += 1\n",
    "\n",
    "ave_change = 0\n",
    "for i in ave_change_list:\n",
    "    ave_change += i\n",
    "    \n",
    "ave_change = round(ave_change/len(ave_change_list),2)\n",
    "\n",
    "print('Financial Analysis\\n---')\n",
    "print(f'Total Months: {month_count}')\n",
    "print(f'Total: ${net_pnl}')\n",
    "print(f'Average Change: ${ave_change}')\n",
    "print(f'Greatest Increase in Profits:{max_date} (${max_increase_profit})')\n",
    "print(f'Greatest Decrease in Profits:{min_date} (${min_decrease_loss})')\n",
    "\n",
    "\n",
    "header = ['Total Months','Total','Average Change','Greatest Increase in Profits','Greatest Decrease in Profits']\n",
    "\n",
    "metrics = [month_count, net_pnl,ave_change,[max_date,max_increase_profit],[min_date,min_decrease_loss]]\n",
    "\n",
    "output_path = Path('./output.txt')\n",
    "with open(output_path, \"w\") as txt_file:\n",
    "    txt_file.write(f\"Financial Analysis\\n\")\n",
    "    txt_file.write(f\"----------------------------\\n\")\n",
    "    txt_file.write(f\"Total Months: {metrics[0]}\\n\")\n",
    "    txt_file.write(f\"Total: ${metrics[1]}\\n\")\n",
    "    txt_file.write(f\"Average  Change: ${metrics[2]}\\n\")\n",
    "    txt_file.write(f\"Greatest Increase in Profits: {metrics[3]})\\n\")\n",
    "    txt_file.write(f\"Greatest Decrease in Profits: {metrics[4]})\\n\") \n",
    "\n",
    "\n",
    "\n",
    "\n",
    "\n",
    "    \n"
   ]
  },
  {
   "cell_type": "code",
   "execution_count": null,
   "id": "85863e17",
   "metadata": {},
   "outputs": [],
   "source": []
  },
  {
   "cell_type": "code",
   "execution_count": null,
   "id": "f37f680e-bc1b-490b-8183-b08801007797",
   "metadata": {},
   "outputs": [],
   "source": []
  }
 ],
 "metadata": {
  "kernelspec": {
   "display_name": "Python 3 (ipykernel)",
   "language": "python",
   "name": "python3"
  },
  "language_info": {
   "codemirror_mode": {
    "name": "ipython",
    "version": 3
   },
   "file_extension": ".py",
   "mimetype": "text/x-python",
   "name": "python",
   "nbconvert_exporter": "python",
   "pygments_lexer": "ipython3",
   "version": "3.9.12"
  },
  "vscode": {
   "interpreter": {
    "hash": "b29a58bc8805aa174e2ea03cbe8704a81c9fd727257188d90a3e5b2f0d6ab1ac"
   }
  }
 },
 "nbformat": 4,
 "nbformat_minor": 5
}
