{
 "cells": [
  {
   "cell_type": "code",
   "execution_count": null,
   "id": "1682dff8-3338-46dd-88ad-a5630474d59d",
   "metadata": {},
   "outputs": [
    {
     "ename": "",
     "evalue": "",
     "output_type": "error",
     "traceback": [
      "\u001b[1;31mRunning cells with 'Python 3.10.7 64-bit (microsoft store)' requires ipykernel package.\n",
      "\u001b[1;31mRun the following command to install 'ipykernel' into the Python environment. \n",
      "\u001b[1;31mCommand: 'c:/Users/xuxuz/AppData/Local/Microsoft/WindowsApps/python3.10.exe -m pip install ipykernel -U --force-reinstall'"
     ]
    }
   ],
   "source": [
    "from pathlib import Path\n",
    "import csv\n",
    "\n",
    "\n",
    "month_count = 0\n",
    "net_pnl = 0\n",
    "ave_pnl = 0\n",
    "max_increase_profit = 0\n",
    "min_decrease_loss = 0\n",
    "\n",
    "budget_data_list = []\n",
    "ave_change_list = []\n",
    "\n",
    "file_path = Path('../xuxuz/OneDrive/Desktop/BCS_Fintech/python-homework/budget_data.csv')\n",
    "\n",
    "\n",
    "with open(file_path,'r') as csvfile:\n",
    "    csvreader= csv.reader(csvfile, delimiter=',')   \n",
    "    header = next(csvreader)\n",
    "    \n",
    "    for row in csvreader:\n",
    "        key = row[0]\n",
    "        value = int(row[1])\n",
    "        \n",
    "        month_count += 1\n",
    "        net_pnl += int(row[1])\n",
    "        \n",
    "        budget_data_list.append([key,value])\n",
    "        \n",
    "    index = 0\n",
    "    index_next = index + 1\n",
    "    \n",
    "#    for i in budget_data_list:\n",
    "#        print(i)\n",
    "\n",
    "#    print(f'list len:{len(budget_data_list)}')\n",
    "                      \n",
    "    while index_next <= (len(budget_data_list)-1):\n",
    "        change = budget_data_list [index_next][1] -  budget_data_list[index][1]\n",
    "        if change > 0:\n",
    "            if max_increase_profit == 0:\n",
    "                max_increase_profit = change\n",
    "                max_date = budget_data_list [index_next][0]\n",
    "            elif change > max_increase_profit:\n",
    "                max_increase_profit = change\n",
    "                max_date = budget_data_list [index_next][0]\n",
    "        elif change < 0:\n",
    "            if min_decrease_loss == 0:\n",
    "                min_decrease_loss = change\n",
    "                min_date = budget_data_list [index_next][0]\n",
    "            elif change < min_decrease_loss:\n",
    "                min_decrease_loss = change\n",
    "                min_date = budget_data_list [index_next][0]\n",
    "\n",
    "        ave_change_list.append(change)\n",
    "        index += 1\n",
    "        index_next += 1\n",
    "\n",
    "ave_change = 0\n",
    "for i in ave_change_list:\n",
    "    ave_change += i\n",
    "    \n",
    "ave_change = round(ave_change/len(ave_change_list),2)\n",
    "\n",
    "print('Financial Analysis\\n---')\n",
    "print(f'Total Months: {month_count}')\n",
    "print(f'Total: ${net_pnl}')\n",
    "print(f'Average Change: ${ave_change}')\n",
    "print(f'Greatest Increase in Profits:{max_date} (${max_increase_profit})')\n",
    "print(f'Greatest Decrease in Profits:{min_date} (${min_decrease_loss})')\n",
    "\n",
    "\n",
    "header = ['Total Months','Total','Average Change','Greatest Increase in Profits','Greatest Decrease in Profits']\n",
    "\n",
    "metrics = [month_count, net_pnl,ave_change,[max_date,max_increase_profit],[min_date,min_decrease_loss]]\n",
    "\n",
    "# Set the output file path\n",
    "output_path = Path('../xuxuz/OneDrive/Desktop/BCS_Fintech/python-homework/PyBank/output.csv')\n",
    "with open(output_path, 'w') as csvfile:\n",
    "    # Set the file object as a csvwriter object\n",
    "    csvwriter = csv.writer(csvfile, delimiter=',')\n",
    "    # Write the header to the output file\n",
    "    csvwriter.writerow(header)\n",
    "    # Write the list of metrics to the output file\n",
    "    csvwriter.writerow(metrics)\n"
   ]
  },
  {
   "cell_type": "code",
   "execution_count": null,
   "id": "f37f680e-bc1b-490b-8183-b08801007797",
   "metadata": {},
   "outputs": [],
   "source": []
  }
 ],
 "metadata": {
  "kernelspec": {
   "display_name": "Python 3.10.7 64-bit (microsoft store)",
   "language": "python",
   "name": "python3"
  },
  "language_info": {
   "codemirror_mode": {
    "name": "ipython",
    "version": 3
   },
   "file_extension": ".py",
   "mimetype": "text/x-python",
   "name": "python",
   "nbconvert_exporter": "python",
   "pygments_lexer": "ipython3",
   "version": "3.10.7"
  },
  "vscode": {
   "interpreter": {
    "hash": "5b8062fad3d941d7f0d0a682a9b842f25083825ea92355c7ff047adb590c15ee"
   }
  }
 },
 "nbformat": 4,
 "nbformat_minor": 5
}
